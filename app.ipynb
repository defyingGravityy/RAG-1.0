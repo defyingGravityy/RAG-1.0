{
 "cells": [
  {
   "cell_type": "code",
   "execution_count": 33,
   "id": "afdefbe2",
   "metadata": {},
   "outputs": [],
   "source": [
    "from langchain_community.document_loaders import (\n",
    "    PyPDFLoader,\n",
    "    CSVLoader,\n",
    "    TextLoader,\n",
    "    UnstructuredWordDocumentLoader\n",
    ")\n",
    "from langchain_core.documents import Document\n",
    "import os\n",
    "\n",
    "def load_documents_from_files(file_paths):\n",
    "    documents = []\n",
    "    for file_path in file_paths:\n",
    "        ext = os.path.splitext(file_path)[1].lower()\n",
    "\n",
    "        if ext == \".pdf\":\n",
    "            loader = PyPDFLoader(file_path)\n",
    "        elif ext == \".csv\":\n",
    "            loader = CSVLoader(file_path)\n",
    "        elif ext in [\".docx\", \".doc\"]:\n",
    "            loader = UnstructuredWordDocumentLoader(file_path)\n",
    "        elif ext in [\".txt\"]:\n",
    "            loader = TextLoader(file_path)\n",
    "        else:\n",
    "            print(f\"Unsupported file type: {file_path}\")\n",
    "            continue\n",
    "\n",
    "        docs = loader.load()\n",
    "        documents.extend(docs)\n",
    "        print(f\"Loaded {len(docs)} document(s) from {file_path}\")\n",
    "\n",
    "    return documents\n"
   ]
  },
  {
   "cell_type": "code",
   "execution_count": 34,
   "id": "2ab19102",
   "metadata": {},
   "outputs": [
    {
     "name": "stderr",
     "output_type": "stream",
     "text": [
      "huggingface/tokenizers: The current process just got forked, after parallelism has already been used. Disabling parallelism to avoid deadlocks...\n",
      "To disable this warning, you can either:\n",
      "\t- Avoid using `tokenizers` before the fork if possible\n",
      "\t- Explicitly set the environment variable TOKENIZERS_PARALLELISM=(true | false)\n"
     ]
    },
    {
     "name": "stdout",
     "output_type": "stream",
     "text": [
      "Requirement already satisfied: pypdf in /home/vaishnavi/Desktop/RAG/venv/lib/python3.13/site-packages (5.7.0)\n"
     ]
    }
   ],
   "source": [
    "!pip install pypdf"
   ]
  },
  {
   "cell_type": "code",
   "execution_count": 35,
   "id": "1296d6c4",
   "metadata": {},
   "outputs": [
    {
     "name": "stdout",
     "output_type": "stream",
     "text": [
      "Loaded 11 document(s) from /home/vaishnavi/Desktop/SmartDOC/attention.pdf\n"
     ]
    }
   ],
   "source": [
    "from tkinter import Tk, filedialog\n",
    "\n",
    "def select_files():\n",
    "    Tk().withdraw()  \n",
    "    file_paths = filedialog.askopenfilenames(\n",
    "        title=\"Select files\",\n",
    "        filetypes=[\n",
    "            (\"Documents\", \"*.pdf *.csv *.docx *.doc *.txt\"),\n",
    "            (\"All Files\", \"*.*\")\n",
    "        ]\n",
    "    )\n",
    "    return list(file_paths)\n",
    "\n",
    "file_paths = select_files()\n",
    "docs = load_documents_from_files(file_paths)\n"
   ]
  },
  {
   "cell_type": "code",
   "execution_count": 36,
   "id": "0ee8765d",
   "metadata": {},
   "outputs": [
    {
     "data": {
      "text/plain": [
       "'Attention Is All You Need\\nAshish Vaswani∗\\nGoogle Brain\\navaswani@google.com\\nNoam Shazeer∗\\nGoogle Brain\\nnoam@google.com\\nNiki Parmar∗\\nGoogle Research\\nnikip@google.com\\nJakob Uszkoreit∗\\nGoogle Research\\nusz@google.com\\nLlion Jones∗\\nGoogle Research\\nllion@google.com\\nAidan N. Gomez∗†\\nUniversity of Toronto\\naidan@cs.toronto.edu\\nŁukasz Kaiser ∗\\nGoogle Brain\\nlukaszkaiser@google.com\\nIllia Polosukhin∗‡\\nillia.polosukhin@gmail.com\\nAbstract\\nThe dominant sequence transduction models are based on complex recurrent o'"
      ]
     },
     "execution_count": 36,
     "metadata": {},
     "output_type": "execute_result"
    }
   ],
   "source": [
    "docs[0].page_content[:500]  # Display the first 500 characters of the first document's content"
   ]
  },
  {
   "cell_type": "code",
   "execution_count": 37,
   "id": "b8fb1dae",
   "metadata": {},
   "outputs": [
    {
     "data": {
      "text/plain": [
       "'Attention Is All You Need\\nAshish Vaswani∗\\nGoogle Brain\\navaswani@google.com\\nNoam Shazeer∗\\nGoogle Brain\\nnoam@google.com\\nNiki Parmar∗\\nGoogle Research\\nnikip@google.com\\nJakob Uszkoreit∗\\nGoogle Research\\nusz@google.com\\nLlion Jones∗\\nGoogle Research\\nllion@google.com\\nAidan N. Gomez∗†\\nUniversity of Toronto\\naidan@cs.toronto.edu\\nŁukasz Kaiser ∗\\nGoogle Brain\\nlukaszkaiser@google.com\\nIllia Polosukhin∗‡\\nillia.polosukhin@gmail.com\\nAbstract\\nThe dominant sequence transduction models are based on complex recurrent or\\nconvolutional neural networks that include an encoder and a decoder. The best\\nperforming models also connect the encoder and decoder through an attention\\nmechanism. We propose a new simple network architecture, the Transformer,\\nbased solely on attention mechanisms, dispensing with recurrence and convolutions\\nentirely. Experiments on two machine translation tasks show these models to\\nbe superior in quality while being more parallelizable and requiring signiﬁcantly'"
      ]
     },
     "execution_count": 37,
     "metadata": {},
     "output_type": "execute_result"
    }
   ],
   "source": [
    "from langchain.text_splitter import RecursiveCharacterTextSplitter\n",
    "\n",
    "def chunk_documents(docs, chunk_size=1000, chunk_overlap=200):\n",
    "    splitter = RecursiveCharacterTextSplitter(\n",
    "        chunk_size=chunk_size,\n",
    "        chunk_overlap=chunk_overlap\n",
    "    )\n",
    "    chunks = splitter.split_documents(docs)\n",
    "    return chunks\n",
    "\n",
    "all_chunks=chunk_documents(docs)\n",
    "all_chunks[0].page_content "
   ]
  },
  {
   "cell_type": "code",
   "execution_count": 38,
   "id": "509d8b7f",
   "metadata": {},
   "outputs": [
    {
     "name": "stderr",
     "output_type": "stream",
     "text": [
      "huggingface/tokenizers: The current process just got forked, after parallelism has already been used. Disabling parallelism to avoid deadlocks...\n",
      "To disable this warning, you can either:\n",
      "\t- Avoid using `tokenizers` before the fork if possible\n",
      "\t- Explicitly set the environment variable TOKENIZERS_PARALLELISM=(true | false)\n"
     ]
    },
    {
     "name": "stdout",
     "output_type": "stream",
     "text": [
      "Requirement already satisfied: langchain_huggingface in /home/vaishnavi/Desktop/RAG/venv/lib/python3.13/site-packages (0.3.0)\n",
      "Requirement already satisfied: langchain-core<1.0.0,>=0.3.65 in /home/vaishnavi/Desktop/RAG/venv/lib/python3.13/site-packages (from langchain_huggingface) (0.3.68)\n",
      "Requirement already satisfied: tokenizers>=0.19.1 in /home/vaishnavi/Desktop/RAG/venv/lib/python3.13/site-packages (from langchain_huggingface) (0.21.2)\n",
      "Requirement already satisfied: huggingface-hub>=0.30.2 in /home/vaishnavi/Desktop/RAG/venv/lib/python3.13/site-packages (from langchain_huggingface) (0.33.2)\n",
      "Requirement already satisfied: langsmith>=0.3.45 in /home/vaishnavi/Desktop/RAG/venv/lib/python3.13/site-packages (from langchain-core<1.0.0,>=0.3.65->langchain_huggingface) (0.4.4)\n",
      "Requirement already satisfied: tenacity!=8.4.0,<10.0.0,>=8.1.0 in /home/vaishnavi/Desktop/RAG/venv/lib/python3.13/site-packages (from langchain-core<1.0.0,>=0.3.65->langchain_huggingface) (9.1.2)\n",
      "Requirement already satisfied: jsonpatch<2.0,>=1.33 in /home/vaishnavi/Desktop/RAG/venv/lib/python3.13/site-packages (from langchain-core<1.0.0,>=0.3.65->langchain_huggingface) (1.33)\n",
      "Requirement already satisfied: PyYAML>=5.3 in /home/vaishnavi/Desktop/RAG/venv/lib/python3.13/site-packages (from langchain-core<1.0.0,>=0.3.65->langchain_huggingface) (6.0.2)\n",
      "Requirement already satisfied: packaging<25,>=23.2 in /home/vaishnavi/Desktop/RAG/venv/lib/python3.13/site-packages (from langchain-core<1.0.0,>=0.3.65->langchain_huggingface) (24.2)\n",
      "Requirement already satisfied: typing-extensions>=4.7 in /home/vaishnavi/Desktop/RAG/venv/lib/python3.13/site-packages (from langchain-core<1.0.0,>=0.3.65->langchain_huggingface) (4.14.1)\n",
      "Requirement already satisfied: pydantic>=2.7.4 in /home/vaishnavi/Desktop/RAG/venv/lib/python3.13/site-packages (from langchain-core<1.0.0,>=0.3.65->langchain_huggingface) (2.11.7)\n",
      "Requirement already satisfied: jsonpointer>=1.9 in /home/vaishnavi/Desktop/RAG/venv/lib/python3.13/site-packages (from jsonpatch<2.0,>=1.33->langchain-core<1.0.0,>=0.3.65->langchain_huggingface) (3.0.0)\n",
      "Requirement already satisfied: filelock in /home/vaishnavi/Desktop/RAG/venv/lib/python3.13/site-packages (from huggingface-hub>=0.30.2->langchain_huggingface) (3.18.0)\n",
      "Requirement already satisfied: fsspec>=2023.5.0 in /home/vaishnavi/Desktop/RAG/venv/lib/python3.13/site-packages (from huggingface-hub>=0.30.2->langchain_huggingface) (2025.5.1)\n",
      "Requirement already satisfied: requests in /home/vaishnavi/Desktop/RAG/venv/lib/python3.13/site-packages (from huggingface-hub>=0.30.2->langchain_huggingface) (2.32.4)\n",
      "Requirement already satisfied: tqdm>=4.42.1 in /home/vaishnavi/Desktop/RAG/venv/lib/python3.13/site-packages (from huggingface-hub>=0.30.2->langchain_huggingface) (4.67.1)\n",
      "Requirement already satisfied: hf-xet<2.0.0,>=1.1.2 in /home/vaishnavi/Desktop/RAG/venv/lib/python3.13/site-packages (from huggingface-hub>=0.30.2->langchain_huggingface) (1.1.5)\n",
      "Requirement already satisfied: httpx<1,>=0.23.0 in /home/vaishnavi/Desktop/RAG/venv/lib/python3.13/site-packages (from langsmith>=0.3.45->langchain-core<1.0.0,>=0.3.65->langchain_huggingface) (0.28.1)\n",
      "Requirement already satisfied: orjson<4.0.0,>=3.9.14 in /home/vaishnavi/Desktop/RAG/venv/lib/python3.13/site-packages (from langsmith>=0.3.45->langchain-core<1.0.0,>=0.3.65->langchain_huggingface) (3.10.18)\n",
      "Requirement already satisfied: requests-toolbelt<2.0.0,>=1.0.0 in /home/vaishnavi/Desktop/RAG/venv/lib/python3.13/site-packages (from langsmith>=0.3.45->langchain-core<1.0.0,>=0.3.65->langchain_huggingface) (1.0.0)\n",
      "Requirement already satisfied: zstandard<0.24.0,>=0.23.0 in /home/vaishnavi/Desktop/RAG/venv/lib/python3.13/site-packages (from langsmith>=0.3.45->langchain-core<1.0.0,>=0.3.65->langchain_huggingface) (0.23.0)\n",
      "Requirement already satisfied: anyio in /home/vaishnavi/Desktop/RAG/venv/lib/python3.13/site-packages (from httpx<1,>=0.23.0->langsmith>=0.3.45->langchain-core<1.0.0,>=0.3.65->langchain_huggingface) (4.9.0)\n",
      "Requirement already satisfied: certifi in /home/vaishnavi/Desktop/RAG/venv/lib/python3.13/site-packages (from httpx<1,>=0.23.0->langsmith>=0.3.45->langchain-core<1.0.0,>=0.3.65->langchain_huggingface) (2025.6.15)\n",
      "Requirement already satisfied: httpcore==1.* in /home/vaishnavi/Desktop/RAG/venv/lib/python3.13/site-packages (from httpx<1,>=0.23.0->langsmith>=0.3.45->langchain-core<1.0.0,>=0.3.65->langchain_huggingface) (1.0.9)\n",
      "Requirement already satisfied: idna in /home/vaishnavi/Desktop/RAG/venv/lib/python3.13/site-packages (from httpx<1,>=0.23.0->langsmith>=0.3.45->langchain-core<1.0.0,>=0.3.65->langchain_huggingface) (3.10)\n",
      "Requirement already satisfied: h11>=0.16 in /home/vaishnavi/Desktop/RAG/venv/lib/python3.13/site-packages (from httpcore==1.*->httpx<1,>=0.23.0->langsmith>=0.3.45->langchain-core<1.0.0,>=0.3.65->langchain_huggingface) (0.16.0)\n",
      "Requirement already satisfied: annotated-types>=0.6.0 in /home/vaishnavi/Desktop/RAG/venv/lib/python3.13/site-packages (from pydantic>=2.7.4->langchain-core<1.0.0,>=0.3.65->langchain_huggingface) (0.7.0)\n",
      "Requirement already satisfied: pydantic-core==2.33.2 in /home/vaishnavi/Desktop/RAG/venv/lib/python3.13/site-packages (from pydantic>=2.7.4->langchain-core<1.0.0,>=0.3.65->langchain_huggingface) (2.33.2)\n",
      "Requirement already satisfied: typing-inspection>=0.4.0 in /home/vaishnavi/Desktop/RAG/venv/lib/python3.13/site-packages (from pydantic>=2.7.4->langchain-core<1.0.0,>=0.3.65->langchain_huggingface) (0.4.1)\n",
      "Requirement already satisfied: charset_normalizer<4,>=2 in /home/vaishnavi/Desktop/RAG/venv/lib/python3.13/site-packages (from requests->huggingface-hub>=0.30.2->langchain_huggingface) (3.4.2)\n",
      "Requirement already satisfied: urllib3<3,>=1.21.1 in /home/vaishnavi/Desktop/RAG/venv/lib/python3.13/site-packages (from requests->huggingface-hub>=0.30.2->langchain_huggingface) (2.5.0)\n",
      "Requirement already satisfied: sniffio>=1.1 in /home/vaishnavi/Desktop/RAG/venv/lib/python3.13/site-packages (from anyio->httpx<1,>=0.23.0->langsmith>=0.3.45->langchain-core<1.0.0,>=0.3.65->langchain_huggingface) (1.3.1)\n"
     ]
    },
    {
     "name": "stderr",
     "output_type": "stream",
     "text": [
      "huggingface/tokenizers: The current process just got forked, after parallelism has already been used. Disabling parallelism to avoid deadlocks...\n",
      "To disable this warning, you can either:\n",
      "\t- Avoid using `tokenizers` before the fork if possible\n",
      "\t- Explicitly set the environment variable TOKENIZERS_PARALLELISM=(true | false)\n"
     ]
    },
    {
     "name": "stdout",
     "output_type": "stream",
     "text": [
      "Requirement already satisfied: sentence_transformers in /home/vaishnavi/Desktop/RAG/venv/lib/python3.13/site-packages (5.0.0)\n",
      "Requirement already satisfied: transformers<5.0.0,>=4.41.0 in /home/vaishnavi/Desktop/RAG/venv/lib/python3.13/site-packages (from sentence_transformers) (4.53.1)\n",
      "Requirement already satisfied: tqdm in /home/vaishnavi/Desktop/RAG/venv/lib/python3.13/site-packages (from sentence_transformers) (4.67.1)\n",
      "Requirement already satisfied: torch>=1.11.0 in /home/vaishnavi/Desktop/RAG/venv/lib/python3.13/site-packages (from sentence_transformers) (2.7.1)\n",
      "Requirement already satisfied: scikit-learn in /home/vaishnavi/Desktop/RAG/venv/lib/python3.13/site-packages (from sentence_transformers) (1.7.0)\n",
      "Requirement already satisfied: scipy in /home/vaishnavi/Desktop/RAG/venv/lib/python3.13/site-packages (from sentence_transformers) (1.16.0)\n",
      "Requirement already satisfied: huggingface-hub>=0.20.0 in /home/vaishnavi/Desktop/RAG/venv/lib/python3.13/site-packages (from sentence_transformers) (0.33.2)\n",
      "Requirement already satisfied: Pillow in /home/vaishnavi/Desktop/RAG/venv/lib/python3.13/site-packages (from sentence_transformers) (11.3.0)\n",
      "Requirement already satisfied: typing_extensions>=4.5.0 in /home/vaishnavi/Desktop/RAG/venv/lib/python3.13/site-packages (from sentence_transformers) (4.14.1)\n",
      "Requirement already satisfied: filelock in /home/vaishnavi/Desktop/RAG/venv/lib/python3.13/site-packages (from transformers<5.0.0,>=4.41.0->sentence_transformers) (3.18.0)\n",
      "Requirement already satisfied: numpy>=1.17 in /home/vaishnavi/Desktop/RAG/venv/lib/python3.13/site-packages (from transformers<5.0.0,>=4.41.0->sentence_transformers) (2.3.1)\n",
      "Requirement already satisfied: packaging>=20.0 in /home/vaishnavi/Desktop/RAG/venv/lib/python3.13/site-packages (from transformers<5.0.0,>=4.41.0->sentence_transformers) (24.2)\n",
      "Requirement already satisfied: pyyaml>=5.1 in /home/vaishnavi/Desktop/RAG/venv/lib/python3.13/site-packages (from transformers<5.0.0,>=4.41.0->sentence_transformers) (6.0.2)\n",
      "Requirement already satisfied: regex!=2019.12.17 in /home/vaishnavi/Desktop/RAG/venv/lib/python3.13/site-packages (from transformers<5.0.0,>=4.41.0->sentence_transformers) (2024.11.6)\n",
      "Requirement already satisfied: requests in /home/vaishnavi/Desktop/RAG/venv/lib/python3.13/site-packages (from transformers<5.0.0,>=4.41.0->sentence_transformers) (2.32.4)\n",
      "Requirement already satisfied: tokenizers<0.22,>=0.21 in /home/vaishnavi/Desktop/RAG/venv/lib/python3.13/site-packages (from transformers<5.0.0,>=4.41.0->sentence_transformers) (0.21.2)\n",
      "Requirement already satisfied: safetensors>=0.4.3 in /home/vaishnavi/Desktop/RAG/venv/lib/python3.13/site-packages (from transformers<5.0.0,>=4.41.0->sentence_transformers) (0.5.3)\n",
      "Requirement already satisfied: fsspec>=2023.5.0 in /home/vaishnavi/Desktop/RAG/venv/lib/python3.13/site-packages (from huggingface-hub>=0.20.0->sentence_transformers) (2025.5.1)\n",
      "Requirement already satisfied: hf-xet<2.0.0,>=1.1.2 in /home/vaishnavi/Desktop/RAG/venv/lib/python3.13/site-packages (from huggingface-hub>=0.20.0->sentence_transformers) (1.1.5)\n",
      "Requirement already satisfied: setuptools in /home/vaishnavi/Desktop/RAG/venv/lib/python3.13/site-packages (from torch>=1.11.0->sentence_transformers) (78.1.1)\n",
      "Requirement already satisfied: sympy>=1.13.3 in /home/vaishnavi/Desktop/RAG/venv/lib/python3.13/site-packages (from torch>=1.11.0->sentence_transformers) (1.14.0)\n",
      "Requirement already satisfied: networkx in /home/vaishnavi/Desktop/RAG/venv/lib/python3.13/site-packages (from torch>=1.11.0->sentence_transformers) (3.5)\n",
      "Requirement already satisfied: jinja2 in /home/vaishnavi/Desktop/RAG/venv/lib/python3.13/site-packages (from torch>=1.11.0->sentence_transformers) (3.1.6)\n",
      "Requirement already satisfied: nvidia-cuda-nvrtc-cu12==12.6.77 in /home/vaishnavi/Desktop/RAG/venv/lib/python3.13/site-packages (from torch>=1.11.0->sentence_transformers) (12.6.77)\n",
      "Requirement already satisfied: nvidia-cuda-runtime-cu12==12.6.77 in /home/vaishnavi/Desktop/RAG/venv/lib/python3.13/site-packages (from torch>=1.11.0->sentence_transformers) (12.6.77)\n",
      "Requirement already satisfied: nvidia-cuda-cupti-cu12==12.6.80 in /home/vaishnavi/Desktop/RAG/venv/lib/python3.13/site-packages (from torch>=1.11.0->sentence_transformers) (12.6.80)\n",
      "Requirement already satisfied: nvidia-cudnn-cu12==9.5.1.17 in /home/vaishnavi/Desktop/RAG/venv/lib/python3.13/site-packages (from torch>=1.11.0->sentence_transformers) (9.5.1.17)\n",
      "Requirement already satisfied: nvidia-cublas-cu12==12.6.4.1 in /home/vaishnavi/Desktop/RAG/venv/lib/python3.13/site-packages (from torch>=1.11.0->sentence_transformers) (12.6.4.1)\n",
      "Requirement already satisfied: nvidia-cufft-cu12==11.3.0.4 in /home/vaishnavi/Desktop/RAG/venv/lib/python3.13/site-packages (from torch>=1.11.0->sentence_transformers) (11.3.0.4)\n",
      "Requirement already satisfied: nvidia-curand-cu12==10.3.7.77 in /home/vaishnavi/Desktop/RAG/venv/lib/python3.13/site-packages (from torch>=1.11.0->sentence_transformers) (10.3.7.77)\n",
      "Requirement already satisfied: nvidia-cusolver-cu12==11.7.1.2 in /home/vaishnavi/Desktop/RAG/venv/lib/python3.13/site-packages (from torch>=1.11.0->sentence_transformers) (11.7.1.2)\n",
      "Requirement already satisfied: nvidia-cusparse-cu12==12.5.4.2 in /home/vaishnavi/Desktop/RAG/venv/lib/python3.13/site-packages (from torch>=1.11.0->sentence_transformers) (12.5.4.2)\n",
      "Requirement already satisfied: nvidia-cusparselt-cu12==0.6.3 in /home/vaishnavi/Desktop/RAG/venv/lib/python3.13/site-packages (from torch>=1.11.0->sentence_transformers) (0.6.3)\n",
      "Requirement already satisfied: nvidia-nccl-cu12==2.26.2 in /home/vaishnavi/Desktop/RAG/venv/lib/python3.13/site-packages (from torch>=1.11.0->sentence_transformers) (2.26.2)\n",
      "Requirement already satisfied: nvidia-nvtx-cu12==12.6.77 in /home/vaishnavi/Desktop/RAG/venv/lib/python3.13/site-packages (from torch>=1.11.0->sentence_transformers) (12.6.77)\n",
      "Requirement already satisfied: nvidia-nvjitlink-cu12==12.6.85 in /home/vaishnavi/Desktop/RAG/venv/lib/python3.13/site-packages (from torch>=1.11.0->sentence_transformers) (12.6.85)\n",
      "Requirement already satisfied: nvidia-cufile-cu12==1.11.1.6 in /home/vaishnavi/Desktop/RAG/venv/lib/python3.13/site-packages (from torch>=1.11.0->sentence_transformers) (1.11.1.6)\n",
      "Requirement already satisfied: triton==3.3.1 in /home/vaishnavi/Desktop/RAG/venv/lib/python3.13/site-packages (from torch>=1.11.0->sentence_transformers) (3.3.1)\n",
      "Requirement already satisfied: mpmath<1.4,>=1.1.0 in /home/vaishnavi/Desktop/RAG/venv/lib/python3.13/site-packages (from sympy>=1.13.3->torch>=1.11.0->sentence_transformers) (1.3.0)\n",
      "Requirement already satisfied: MarkupSafe>=2.0 in /home/vaishnavi/Desktop/RAG/venv/lib/python3.13/site-packages (from jinja2->torch>=1.11.0->sentence_transformers) (3.0.2)\n",
      "Requirement already satisfied: charset_normalizer<4,>=2 in /home/vaishnavi/Desktop/RAG/venv/lib/python3.13/site-packages (from requests->transformers<5.0.0,>=4.41.0->sentence_transformers) (3.4.2)\n",
      "Requirement already satisfied: idna<4,>=2.5 in /home/vaishnavi/Desktop/RAG/venv/lib/python3.13/site-packages (from requests->transformers<5.0.0,>=4.41.0->sentence_transformers) (3.10)\n",
      "Requirement already satisfied: urllib3<3,>=1.21.1 in /home/vaishnavi/Desktop/RAG/venv/lib/python3.13/site-packages (from requests->transformers<5.0.0,>=4.41.0->sentence_transformers) (2.5.0)\n",
      "Requirement already satisfied: certifi>=2017.4.17 in /home/vaishnavi/Desktop/RAG/venv/lib/python3.13/site-packages (from requests->transformers<5.0.0,>=4.41.0->sentence_transformers) (2025.6.15)\n",
      "Requirement already satisfied: joblib>=1.2.0 in /home/vaishnavi/Desktop/RAG/venv/lib/python3.13/site-packages (from scikit-learn->sentence_transformers) (1.5.1)\n",
      "Requirement already satisfied: threadpoolctl>=3.1.0 in /home/vaishnavi/Desktop/RAG/venv/lib/python3.13/site-packages (from scikit-learn->sentence_transformers) (3.6.0)\n"
     ]
    },
    {
     "name": "stderr",
     "output_type": "stream",
     "text": [
      "huggingface/tokenizers: The current process just got forked, after parallelism has already been used. Disabling parallelism to avoid deadlocks...\n",
      "To disable this warning, you can either:\n",
      "\t- Avoid using `tokenizers` before the fork if possible\n",
      "\t- Explicitly set the environment variable TOKENIZERS_PARALLELISM=(true | false)\n"
     ]
    },
    {
     "name": "stdout",
     "output_type": "stream",
     "text": [
      "Requirement already satisfied: langchain_chroma in /home/vaishnavi/Desktop/RAG/venv/lib/python3.13/site-packages (0.2.4)\n",
      "Requirement already satisfied: langchain-core>=0.3.60 in /home/vaishnavi/Desktop/RAG/venv/lib/python3.13/site-packages (from langchain_chroma) (0.3.68)\n",
      "Requirement already satisfied: numpy>=2.1.0 in /home/vaishnavi/Desktop/RAG/venv/lib/python3.13/site-packages (from langchain_chroma) (2.3.1)\n",
      "Requirement already satisfied: chromadb>=1.0.9 in /home/vaishnavi/Desktop/RAG/venv/lib/python3.13/site-packages (from langchain_chroma) (1.0.15)\n",
      "Requirement already satisfied: build>=1.0.3 in /home/vaishnavi/Desktop/RAG/venv/lib/python3.13/site-packages (from chromadb>=1.0.9->langchain_chroma) (1.2.2.post1)\n",
      "Requirement already satisfied: pydantic>=1.9 in /home/vaishnavi/Desktop/RAG/venv/lib/python3.13/site-packages (from chromadb>=1.0.9->langchain_chroma) (2.11.7)\n",
      "Requirement already satisfied: pybase64>=1.4.1 in /home/vaishnavi/Desktop/RAG/venv/lib/python3.13/site-packages (from chromadb>=1.0.9->langchain_chroma) (1.4.1)\n",
      "Requirement already satisfied: uvicorn>=0.18.3 in /home/vaishnavi/Desktop/RAG/venv/lib/python3.13/site-packages (from uvicorn[standard]>=0.18.3->chromadb>=1.0.9->langchain_chroma) (0.35.0)\n",
      "Requirement already satisfied: posthog<6.0.0,>=2.4.0 in /home/vaishnavi/Desktop/RAG/venv/lib/python3.13/site-packages (from chromadb>=1.0.9->langchain_chroma) (5.4.0)\n",
      "Requirement already satisfied: typing-extensions>=4.5.0 in /home/vaishnavi/Desktop/RAG/venv/lib/python3.13/site-packages (from chromadb>=1.0.9->langchain_chroma) (4.14.1)\n",
      "Requirement already satisfied: onnxruntime>=1.14.1 in /home/vaishnavi/Desktop/RAG/venv/lib/python3.13/site-packages (from chromadb>=1.0.9->langchain_chroma) (1.22.0)\n",
      "Requirement already satisfied: opentelemetry-api>=1.2.0 in /home/vaishnavi/Desktop/RAG/venv/lib/python3.13/site-packages (from chromadb>=1.0.9->langchain_chroma) (1.34.1)\n",
      "Requirement already satisfied: opentelemetry-exporter-otlp-proto-grpc>=1.2.0 in /home/vaishnavi/Desktop/RAG/venv/lib/python3.13/site-packages (from chromadb>=1.0.9->langchain_chroma) (1.34.1)\n",
      "Requirement already satisfied: opentelemetry-sdk>=1.2.0 in /home/vaishnavi/Desktop/RAG/venv/lib/python3.13/site-packages (from chromadb>=1.0.9->langchain_chroma) (1.34.1)\n",
      "Requirement already satisfied: tokenizers>=0.13.2 in /home/vaishnavi/Desktop/RAG/venv/lib/python3.13/site-packages (from chromadb>=1.0.9->langchain_chroma) (0.21.2)\n",
      "Requirement already satisfied: pypika>=0.48.9 in /home/vaishnavi/Desktop/RAG/venv/lib/python3.13/site-packages (from chromadb>=1.0.9->langchain_chroma) (0.48.9)\n",
      "Requirement already satisfied: tqdm>=4.65.0 in /home/vaishnavi/Desktop/RAG/venv/lib/python3.13/site-packages (from chromadb>=1.0.9->langchain_chroma) (4.67.1)\n",
      "Requirement already satisfied: overrides>=7.3.1 in /home/vaishnavi/Desktop/RAG/venv/lib/python3.13/site-packages (from chromadb>=1.0.9->langchain_chroma) (7.7.0)\n",
      "Requirement already satisfied: importlib-resources in /home/vaishnavi/Desktop/RAG/venv/lib/python3.13/site-packages (from chromadb>=1.0.9->langchain_chroma) (6.5.2)\n",
      "Requirement already satisfied: grpcio>=1.58.0 in /home/vaishnavi/Desktop/RAG/venv/lib/python3.13/site-packages (from chromadb>=1.0.9->langchain_chroma) (1.73.1)\n",
      "Requirement already satisfied: bcrypt>=4.0.1 in /home/vaishnavi/Desktop/RAG/venv/lib/python3.13/site-packages (from chromadb>=1.0.9->langchain_chroma) (4.3.0)\n",
      "Requirement already satisfied: typer>=0.9.0 in /home/vaishnavi/Desktop/RAG/venv/lib/python3.13/site-packages (from chromadb>=1.0.9->langchain_chroma) (0.16.0)\n",
      "Requirement already satisfied: kubernetes>=28.1.0 in /home/vaishnavi/Desktop/RAG/venv/lib/python3.13/site-packages (from chromadb>=1.0.9->langchain_chroma) (33.1.0)\n",
      "Requirement already satisfied: tenacity>=8.2.3 in /home/vaishnavi/Desktop/RAG/venv/lib/python3.13/site-packages (from chromadb>=1.0.9->langchain_chroma) (9.1.2)\n",
      "Requirement already satisfied: pyyaml>=6.0.0 in /home/vaishnavi/Desktop/RAG/venv/lib/python3.13/site-packages (from chromadb>=1.0.9->langchain_chroma) (6.0.2)\n",
      "Requirement already satisfied: mmh3>=4.0.1 in /home/vaishnavi/Desktop/RAG/venv/lib/python3.13/site-packages (from chromadb>=1.0.9->langchain_chroma) (5.1.0)\n",
      "Requirement already satisfied: orjson>=3.9.12 in /home/vaishnavi/Desktop/RAG/venv/lib/python3.13/site-packages (from chromadb>=1.0.9->langchain_chroma) (3.10.18)\n",
      "Requirement already satisfied: httpx>=0.27.0 in /home/vaishnavi/Desktop/RAG/venv/lib/python3.13/site-packages (from chromadb>=1.0.9->langchain_chroma) (0.28.1)\n",
      "Requirement already satisfied: rich>=10.11.0 in /home/vaishnavi/Desktop/RAG/venv/lib/python3.13/site-packages (from chromadb>=1.0.9->langchain_chroma) (14.0.0)\n",
      "Requirement already satisfied: jsonschema>=4.19.0 in /home/vaishnavi/Desktop/RAG/venv/lib/python3.13/site-packages (from chromadb>=1.0.9->langchain_chroma) (4.24.0)\n",
      "Requirement already satisfied: requests<3.0,>=2.7 in /home/vaishnavi/Desktop/RAG/venv/lib/python3.13/site-packages (from posthog<6.0.0,>=2.4.0->chromadb>=1.0.9->langchain_chroma) (2.32.4)\n",
      "Requirement already satisfied: six>=1.5 in /home/vaishnavi/Desktop/RAG/venv/lib/python3.13/site-packages (from posthog<6.0.0,>=2.4.0->chromadb>=1.0.9->langchain_chroma) (1.17.0)\n",
      "Requirement already satisfied: python-dateutil>=2.2 in /home/vaishnavi/Desktop/RAG/venv/lib/python3.13/site-packages (from posthog<6.0.0,>=2.4.0->chromadb>=1.0.9->langchain_chroma) (2.9.0.post0)\n",
      "Requirement already satisfied: backoff>=1.10.0 in /home/vaishnavi/Desktop/RAG/venv/lib/python3.13/site-packages (from posthog<6.0.0,>=2.4.0->chromadb>=1.0.9->langchain_chroma) (2.2.1)\n",
      "Requirement already satisfied: distro>=1.5.0 in /home/vaishnavi/Desktop/RAG/venv/lib/python3.13/site-packages (from posthog<6.0.0,>=2.4.0->chromadb>=1.0.9->langchain_chroma) (1.9.0)\n",
      "Requirement already satisfied: charset_normalizer<4,>=2 in /home/vaishnavi/Desktop/RAG/venv/lib/python3.13/site-packages (from requests<3.0,>=2.7->posthog<6.0.0,>=2.4.0->chromadb>=1.0.9->langchain_chroma) (3.4.2)\n",
      "Requirement already satisfied: idna<4,>=2.5 in /home/vaishnavi/Desktop/RAG/venv/lib/python3.13/site-packages (from requests<3.0,>=2.7->posthog<6.0.0,>=2.4.0->chromadb>=1.0.9->langchain_chroma) (3.10)\n",
      "Requirement already satisfied: urllib3<3,>=1.21.1 in /home/vaishnavi/Desktop/RAG/venv/lib/python3.13/site-packages (from requests<3.0,>=2.7->posthog<6.0.0,>=2.4.0->chromadb>=1.0.9->langchain_chroma) (2.5.0)\n",
      "Requirement already satisfied: certifi>=2017.4.17 in /home/vaishnavi/Desktop/RAG/venv/lib/python3.13/site-packages (from requests<3.0,>=2.7->posthog<6.0.0,>=2.4.0->chromadb>=1.0.9->langchain_chroma) (2025.6.15)\n",
      "Requirement already satisfied: packaging>=19.1 in /home/vaishnavi/Desktop/RAG/venv/lib/python3.13/site-packages (from build>=1.0.3->chromadb>=1.0.9->langchain_chroma) (24.2)\n",
      "Requirement already satisfied: pyproject_hooks in /home/vaishnavi/Desktop/RAG/venv/lib/python3.13/site-packages (from build>=1.0.3->chromadb>=1.0.9->langchain_chroma) (1.2.0)\n",
      "Requirement already satisfied: anyio in /home/vaishnavi/Desktop/RAG/venv/lib/python3.13/site-packages (from httpx>=0.27.0->chromadb>=1.0.9->langchain_chroma) (4.9.0)\n",
      "Requirement already satisfied: httpcore==1.* in /home/vaishnavi/Desktop/RAG/venv/lib/python3.13/site-packages (from httpx>=0.27.0->chromadb>=1.0.9->langchain_chroma) (1.0.9)\n",
      "Requirement already satisfied: h11>=0.16 in /home/vaishnavi/Desktop/RAG/venv/lib/python3.13/site-packages (from httpcore==1.*->httpx>=0.27.0->chromadb>=1.0.9->langchain_chroma) (0.16.0)\n",
      "Requirement already satisfied: attrs>=22.2.0 in /home/vaishnavi/Desktop/RAG/venv/lib/python3.13/site-packages (from jsonschema>=4.19.0->chromadb>=1.0.9->langchain_chroma) (25.3.0)\n",
      "Requirement already satisfied: jsonschema-specifications>=2023.03.6 in /home/vaishnavi/Desktop/RAG/venv/lib/python3.13/site-packages (from jsonschema>=4.19.0->chromadb>=1.0.9->langchain_chroma) (2025.4.1)\n",
      "Requirement already satisfied: referencing>=0.28.4 in /home/vaishnavi/Desktop/RAG/venv/lib/python3.13/site-packages (from jsonschema>=4.19.0->chromadb>=1.0.9->langchain_chroma) (0.36.2)\n",
      "Requirement already satisfied: rpds-py>=0.7.1 in /home/vaishnavi/Desktop/RAG/venv/lib/python3.13/site-packages (from jsonschema>=4.19.0->chromadb>=1.0.9->langchain_chroma) (0.26.0)\n",
      "Requirement already satisfied: google-auth>=1.0.1 in /home/vaishnavi/Desktop/RAG/venv/lib/python3.13/site-packages (from kubernetes>=28.1.0->chromadb>=1.0.9->langchain_chroma) (2.40.3)\n",
      "Requirement already satisfied: websocket-client!=0.40.0,!=0.41.*,!=0.42.*,>=0.32.0 in /home/vaishnavi/Desktop/RAG/venv/lib/python3.13/site-packages (from kubernetes>=28.1.0->chromadb>=1.0.9->langchain_chroma) (1.8.0)\n",
      "Requirement already satisfied: requests-oauthlib in /home/vaishnavi/Desktop/RAG/venv/lib/python3.13/site-packages (from kubernetes>=28.1.0->chromadb>=1.0.9->langchain_chroma) (2.0.0)\n",
      "Requirement already satisfied: oauthlib>=3.2.2 in /home/vaishnavi/Desktop/RAG/venv/lib/python3.13/site-packages (from kubernetes>=28.1.0->chromadb>=1.0.9->langchain_chroma) (3.3.1)\n",
      "Requirement already satisfied: durationpy>=0.7 in /home/vaishnavi/Desktop/RAG/venv/lib/python3.13/site-packages (from kubernetes>=28.1.0->chromadb>=1.0.9->langchain_chroma) (0.10)\n",
      "Requirement already satisfied: cachetools<6.0,>=2.0.0 in /home/vaishnavi/Desktop/RAG/venv/lib/python3.13/site-packages (from google-auth>=1.0.1->kubernetes>=28.1.0->chromadb>=1.0.9->langchain_chroma) (5.5.2)\n",
      "Requirement already satisfied: pyasn1-modules>=0.2.1 in /home/vaishnavi/Desktop/RAG/venv/lib/python3.13/site-packages (from google-auth>=1.0.1->kubernetes>=28.1.0->chromadb>=1.0.9->langchain_chroma) (0.4.2)\n",
      "Requirement already satisfied: rsa<5,>=3.1.4 in /home/vaishnavi/Desktop/RAG/venv/lib/python3.13/site-packages (from google-auth>=1.0.1->kubernetes>=28.1.0->chromadb>=1.0.9->langchain_chroma) (4.9.1)\n",
      "Requirement already satisfied: pyasn1>=0.1.3 in /home/vaishnavi/Desktop/RAG/venv/lib/python3.13/site-packages (from rsa<5,>=3.1.4->google-auth>=1.0.1->kubernetes>=28.1.0->chromadb>=1.0.9->langchain_chroma) (0.6.1)\n",
      "Requirement already satisfied: langsmith>=0.3.45 in /home/vaishnavi/Desktop/RAG/venv/lib/python3.13/site-packages (from langchain-core>=0.3.60->langchain_chroma) (0.4.4)\n",
      "Requirement already satisfied: jsonpatch<2.0,>=1.33 in /home/vaishnavi/Desktop/RAG/venv/lib/python3.13/site-packages (from langchain-core>=0.3.60->langchain_chroma) (1.33)\n",
      "Requirement already satisfied: jsonpointer>=1.9 in /home/vaishnavi/Desktop/RAG/venv/lib/python3.13/site-packages (from jsonpatch<2.0,>=1.33->langchain-core>=0.3.60->langchain_chroma) (3.0.0)\n",
      "Requirement already satisfied: requests-toolbelt<2.0.0,>=1.0.0 in /home/vaishnavi/Desktop/RAG/venv/lib/python3.13/site-packages (from langsmith>=0.3.45->langchain-core>=0.3.60->langchain_chroma) (1.0.0)\n",
      "Requirement already satisfied: zstandard<0.24.0,>=0.23.0 in /home/vaishnavi/Desktop/RAG/venv/lib/python3.13/site-packages (from langsmith>=0.3.45->langchain-core>=0.3.60->langchain_chroma) (0.23.0)\n",
      "Requirement already satisfied: annotated-types>=0.6.0 in /home/vaishnavi/Desktop/RAG/venv/lib/python3.13/site-packages (from pydantic>=1.9->chromadb>=1.0.9->langchain_chroma) (0.7.0)\n",
      "Requirement already satisfied: pydantic-core==2.33.2 in /home/vaishnavi/Desktop/RAG/venv/lib/python3.13/site-packages (from pydantic>=1.9->chromadb>=1.0.9->langchain_chroma) (2.33.2)\n",
      "Requirement already satisfied: typing-inspection>=0.4.0 in /home/vaishnavi/Desktop/RAG/venv/lib/python3.13/site-packages (from pydantic>=1.9->chromadb>=1.0.9->langchain_chroma) (0.4.1)\n",
      "Requirement already satisfied: coloredlogs in /home/vaishnavi/Desktop/RAG/venv/lib/python3.13/site-packages (from onnxruntime>=1.14.1->chromadb>=1.0.9->langchain_chroma) (15.0.1)\n",
      "Requirement already satisfied: flatbuffers in /home/vaishnavi/Desktop/RAG/venv/lib/python3.13/site-packages (from onnxruntime>=1.14.1->chromadb>=1.0.9->langchain_chroma) (25.2.10)\n",
      "Requirement already satisfied: protobuf in /home/vaishnavi/Desktop/RAG/venv/lib/python3.13/site-packages (from onnxruntime>=1.14.1->chromadb>=1.0.9->langchain_chroma) (5.29.5)\n",
      "Requirement already satisfied: sympy in /home/vaishnavi/Desktop/RAG/venv/lib/python3.13/site-packages (from onnxruntime>=1.14.1->chromadb>=1.0.9->langchain_chroma) (1.14.0)\n",
      "Requirement already satisfied: importlib-metadata<8.8.0,>=6.0 in /home/vaishnavi/Desktop/RAG/venv/lib/python3.13/site-packages (from opentelemetry-api>=1.2.0->chromadb>=1.0.9->langchain_chroma) (8.7.0)\n",
      "Requirement already satisfied: zipp>=3.20 in /home/vaishnavi/Desktop/RAG/venv/lib/python3.13/site-packages (from importlib-metadata<8.8.0,>=6.0->opentelemetry-api>=1.2.0->chromadb>=1.0.9->langchain_chroma) (3.23.0)\n",
      "Requirement already satisfied: googleapis-common-protos~=1.52 in /home/vaishnavi/Desktop/RAG/venv/lib/python3.13/site-packages (from opentelemetry-exporter-otlp-proto-grpc>=1.2.0->chromadb>=1.0.9->langchain_chroma) (1.70.0)\n",
      "Requirement already satisfied: opentelemetry-exporter-otlp-proto-common==1.34.1 in /home/vaishnavi/Desktop/RAG/venv/lib/python3.13/site-packages (from opentelemetry-exporter-otlp-proto-grpc>=1.2.0->chromadb>=1.0.9->langchain_chroma) (1.34.1)\n",
      "Requirement already satisfied: opentelemetry-proto==1.34.1 in /home/vaishnavi/Desktop/RAG/venv/lib/python3.13/site-packages (from opentelemetry-exporter-otlp-proto-grpc>=1.2.0->chromadb>=1.0.9->langchain_chroma) (1.34.1)\n",
      "Requirement already satisfied: opentelemetry-semantic-conventions==0.55b1 in /home/vaishnavi/Desktop/RAG/venv/lib/python3.13/site-packages (from opentelemetry-sdk>=1.2.0->chromadb>=1.0.9->langchain_chroma) (0.55b1)\n",
      "Requirement already satisfied: markdown-it-py>=2.2.0 in /home/vaishnavi/Desktop/RAG/venv/lib/python3.13/site-packages (from rich>=10.11.0->chromadb>=1.0.9->langchain_chroma) (3.0.0)\n",
      "Requirement already satisfied: pygments<3.0.0,>=2.13.0 in /home/vaishnavi/Desktop/RAG/venv/lib/python3.13/site-packages (from rich>=10.11.0->chromadb>=1.0.9->langchain_chroma) (2.19.2)\n",
      "Requirement already satisfied: mdurl~=0.1 in /home/vaishnavi/Desktop/RAG/venv/lib/python3.13/site-packages (from markdown-it-py>=2.2.0->rich>=10.11.0->chromadb>=1.0.9->langchain_chroma) (0.1.2)\n",
      "Requirement already satisfied: huggingface-hub<1.0,>=0.16.4 in /home/vaishnavi/Desktop/RAG/venv/lib/python3.13/site-packages (from tokenizers>=0.13.2->chromadb>=1.0.9->langchain_chroma) (0.33.2)\n",
      "Requirement already satisfied: filelock in /home/vaishnavi/Desktop/RAG/venv/lib/python3.13/site-packages (from huggingface-hub<1.0,>=0.16.4->tokenizers>=0.13.2->chromadb>=1.0.9->langchain_chroma) (3.18.0)\n",
      "Requirement already satisfied: fsspec>=2023.5.0 in /home/vaishnavi/Desktop/RAG/venv/lib/python3.13/site-packages (from huggingface-hub<1.0,>=0.16.4->tokenizers>=0.13.2->chromadb>=1.0.9->langchain_chroma) (2025.5.1)\n",
      "Requirement already satisfied: hf-xet<2.0.0,>=1.1.2 in /home/vaishnavi/Desktop/RAG/venv/lib/python3.13/site-packages (from huggingface-hub<1.0,>=0.16.4->tokenizers>=0.13.2->chromadb>=1.0.9->langchain_chroma) (1.1.5)\n",
      "Requirement already satisfied: click>=8.0.0 in /home/vaishnavi/Desktop/RAG/venv/lib/python3.13/site-packages (from typer>=0.9.0->chromadb>=1.0.9->langchain_chroma) (8.2.1)\n",
      "Requirement already satisfied: shellingham>=1.3.0 in /home/vaishnavi/Desktop/RAG/venv/lib/python3.13/site-packages (from typer>=0.9.0->chromadb>=1.0.9->langchain_chroma) (1.5.4)\n",
      "Requirement already satisfied: httptools>=0.6.3 in /home/vaishnavi/Desktop/RAG/venv/lib/python3.13/site-packages (from uvicorn[standard]>=0.18.3->chromadb>=1.0.9->langchain_chroma) (0.6.4)\n",
      "Requirement already satisfied: python-dotenv>=0.13 in /home/vaishnavi/Desktop/RAG/venv/lib/python3.13/site-packages (from uvicorn[standard]>=0.18.3->chromadb>=1.0.9->langchain_chroma) (1.1.1)\n",
      "Requirement already satisfied: uvloop>=0.15.1 in /home/vaishnavi/Desktop/RAG/venv/lib/python3.13/site-packages (from uvicorn[standard]>=0.18.3->chromadb>=1.0.9->langchain_chroma) (0.21.0)\n",
      "Requirement already satisfied: watchfiles>=0.13 in /home/vaishnavi/Desktop/RAG/venv/lib/python3.13/site-packages (from uvicorn[standard]>=0.18.3->chromadb>=1.0.9->langchain_chroma) (1.1.0)\n",
      "Requirement already satisfied: websockets>=10.4 in /home/vaishnavi/Desktop/RAG/venv/lib/python3.13/site-packages (from uvicorn[standard]>=0.18.3->chromadb>=1.0.9->langchain_chroma) (15.0.1)\n",
      "Requirement already satisfied: sniffio>=1.1 in /home/vaishnavi/Desktop/RAG/venv/lib/python3.13/site-packages (from anyio->httpx>=0.27.0->chromadb>=1.0.9->langchain_chroma) (1.3.1)\n",
      "Requirement already satisfied: humanfriendly>=9.1 in /home/vaishnavi/Desktop/RAG/venv/lib/python3.13/site-packages (from coloredlogs->onnxruntime>=1.14.1->chromadb>=1.0.9->langchain_chroma) (10.0)\n",
      "Requirement already satisfied: mpmath<1.4,>=1.1.0 in /home/vaishnavi/Desktop/RAG/venv/lib/python3.13/site-packages (from sympy->onnxruntime>=1.14.1->chromadb>=1.0.9->langchain_chroma) (1.3.0)\n"
     ]
    }
   ],
   "source": [
    "!pip install langchain_huggingface\n",
    "!pip install sentence_transformers\n",
    "!pip install langchain_chroma"
   ]
  },
  {
   "cell_type": "code",
   "execution_count": 39,
   "id": "f66b556b",
   "metadata": {},
   "outputs": [],
   "source": [
    "import shutil\n",
    "\n",
    "# Delete previous Chroma DB to reset embedding dimensions\n",
    "shutil.rmtree(\"chroma_db\", ignore_errors=True)\n"
   ]
  },
  {
   "cell_type": "code",
   "execution_count": 42,
   "id": "749b0279",
   "metadata": {},
   "outputs": [],
   "source": [
    "from langchain_community.vectorstores import Chroma\n",
    "from langchain_huggingface import HuggingFaceEmbeddings\n",
    "\n",
    "def create_chroma_vectorstore(docs, persist_directory=\"chromaDB\", model_name=\"BAAI/bge-base-en-v1.5\"):\n",
    "    embeddings = HuggingFaceEmbeddings(model_name=model_name)\n",
    "    vectorstore = Chroma.from_documents(\n",
    "        documents=docs,\n",
    "        embedding=embeddings,\n",
    "        persist_directory=persist_directory\n",
    "    )\n",
    "    return vectorstore\n",
    "\n",
    "vectorstore = create_chroma_vectorstore(all_chunks)\n"
   ]
  },
  {
   "cell_type": "code",
   "execution_count": 43,
   "id": "01a03238",
   "metadata": {},
   "outputs": [
    {
     "name": "stdout",
     "output_type": "stream",
     "text": [
      "\n",
      "Match 1 (Score: 0.7138):\n",
      "around each of the sub-layers, followed by layer normalization. We also modify the self-attention\n",
      "sub-layer in the decoder stack to prevent positions from attending to subsequent positions. This\n",
      "masking, combined with fact that the output embeddings are offset by one position, ensures that the\n",
      "predictions for position ican depend only on the known outputs at positions less than i.\n",
      "3.2 Attention\n",
      "An attention function can be described as mapping a query and a set of key-value pairs to an output,\n",
      "w\n",
      "\n",
      "\n",
      "Match 2 (Score: 0.7694):\n",
      "Attention Is All You Need\n",
      "Ashish Vaswani∗\n",
      "Google Brain\n",
      "avaswani@google.com\n",
      "Noam Shazeer∗\n",
      "Google Brain\n",
      "noam@google.com\n",
      "Niki Parmar∗\n",
      "Google Research\n",
      "nikip@google.com\n",
      "Jakob Uszkoreit∗\n",
      "Google Research\n",
      "usz@google.com\n",
      "Llion Jones∗\n",
      "Google Research\n",
      "llion@google.com\n",
      "Aidan N. Gomez∗†\n",
      "University of Toronto\n",
      "aidan@cs.toronto.edu\n",
      "Łukasz Kaiser ∗\n",
      "Google Brain\n",
      "lukaszkaiser@google.com\n",
      "Illia Polosukhin∗‡\n",
      "illia.polosukhin@gmail.com\n",
      "Abstract\n",
      "The dominant sequence transduction models are based on complex recurrent o\n",
      "\n",
      "\n",
      "Match 3 (Score: 0.7837):\n",
      "described in section 3.2.\n",
      "Self-attention, sometimes called intra-attention is an attention mechanism relating different positions\n",
      "of a single sequence in order to compute a representation of the sequence. Self-attention has been\n",
      "used successfully in a variety of tasks including reading comprehension, abstractive summarization,\n",
      "textual entailment and learning task-independent sentence representations [4, 22, 23, 19].\n",
      "End-to-end memory networks are based on a recurrent attention mechanism instead \n",
      "\n"
     ]
    }
   ],
   "source": [
    "def ask_question(vectorstore, query, k=3):\n",
    "    results = vectorstore.similarity_search_with_score(query, k=k)\n",
    "    for i, (doc, score) in enumerate(results):\n",
    "        print(f\"\\nMatch {i+1} (Score: {score:.4f}):\\n{doc.page_content[:500]}\\n\")\n",
    "\n",
    "ask_question(vectorstore, \"What is attention?\")"
   ]
  },
  {
   "cell_type": "code",
   "execution_count": 46,
   "id": "c84c27eb",
   "metadata": {},
   "outputs": [
    {
     "name": "stdout",
     "output_type": "stream",
     "text": [
      "\n",
      "match 1:\n",
      "around each of the sub-layers, followed by layer normalization. We also modify the self-attention\n",
      "sub-layer in the decoder stack to prevent positions from attending to subsequent positions. This\n",
      "masking, combined with fact that the output embeddings are offset by one position, ensures that the\n",
      "predictions for position ican depend only on the known outputs at positions less than i.\n",
      "3.2 Attention\n",
      "An attention function can be described as mapping a query and a set of key-value pairs to an output,\n",
      "w\n",
      "\n",
      "\n",
      "match 2:\n",
      "Attention Is All You Need\n",
      "Ashish Vaswani∗\n",
      "Google Brain\n",
      "avaswani@google.com\n",
      "Noam Shazeer∗\n",
      "Google Brain\n",
      "noam@google.com\n",
      "Niki Parmar∗\n",
      "Google Research\n",
      "nikip@google.com\n",
      "Jakob Uszkoreit∗\n",
      "Google Research\n",
      "usz@google.com\n",
      "Llion Jones∗\n",
      "Google Research\n",
      "llion@google.com\n",
      "Aidan N. Gomez∗†\n",
      "University of Toronto\n",
      "aidan@cs.toronto.edu\n",
      "Łukasz Kaiser ∗\n",
      "Google Brain\n",
      "lukaszkaiser@google.com\n",
      "Illia Polosukhin∗‡\n",
      "illia.polosukhin@gmail.com\n",
      "Abstract\n",
      "The dominant sequence transduction models are based on complex recurrent o\n",
      "\n",
      "\n",
      "match 3:\n",
      "single-precision ﬂoating-point capacity of each GPU 5.\n",
      "6.2 Model Variations\n",
      "To evaluate the importance of different components of the Transformer, we varied our base model\n",
      "in different ways, measuring the change in performance on English-to-German translation on the\n",
      "development set, newstest2013. We used beam search as described in the previous section, but no\n",
      "checkpoint averaging. We present these results in Table 3.\n",
      "In Table 3 rows (A), we vary the number of attention heads and the attention k\n",
      "\n"
     ]
    }
   ],
   "source": [
    "def get_relevant_chunks(retriever,query,k=3):\n",
    "  results=retriever.get_relevant_documents(query)\n",
    "  return results\n",
    "\n",
    "#retriever=vectorstore.as_retriever(search_kwargs={\"k\":3})\n",
    "retriever=vectorstore.as_retriever(\n",
    "    search_type=\"mmr\",\n",
    "    search_kwargs={\"k\":3,\"fetch_k\":20}\n",
    ")\n",
    "\n",
    "query=\"What is attention?\"\n",
    "relevant_docs=get_relevant_chunks(retriever,query)\n",
    "\n",
    "for i,doc in enumerate(relevant_docs):\n",
    "  print(f\"\\nmatch {i+1}:\\n{doc.page_content[:500]}\\n\")"
   ]
  },
  {
   "cell_type": "code",
   "execution_count": null,
   "id": "9d5a25b0",
   "metadata": {},
   "outputs": [
    {
     "name": "stderr",
     "output_type": "stream",
     "text": [
      "/tmp/ipykernel_9616/1609189208.py:4: LangChainDeprecationWarning: The class `Ollama` was deprecated in LangChain 0.3.1 and will be removed in 1.0.0. An updated version of the class exists in the :class:`~langchain-ollama package and should be used instead. To use it run `pip install -U :class:`~langchain-ollama` and import as `from :class:`~langchain_ollama import OllamaLLM``.\n",
      "  llm = Ollama(model=\"tinyllama\")\n"
     ]
    },
    {
     "name": "stdout",
     "output_type": "stream",
     "text": [
      "SmartDOC says:\n",
      " According to the given material, \"Attention Is All You Need\" (AIAM) is a new simple network architecture that combines the attention mechanism with Transformer, which includes encoder and decoder networks. The proposed model is based on a single-precision floating-point capacity of each GPU and measures changes in performance using beam search as described in the previous section. The AIAM uses various components like different heads for the attention, varying amounts of computation, and a single-head approach to attenion, but the overall performance drops off with too many heads.\n"
     ]
    }
   ],
   "source": [
    "from langchain_community.llms import Ollama\n",
    "\n",
    "llm = Ollama(model=\"tinyllama\")\n",
    "\n",
    "def generate_answer(query, retrieved_docs, llm):\n",
    "    context = \"\\n\\n\".join([doc.page_content for doc in retrieved_docs])\n",
    "\n",
    "    prompt = f\"\"\"\n",
    "    You are a helpful assistant. Use the context below to answer the question accurately.\n",
    "\n",
    "    Context:\n",
    "    {context}\n",
    "\n",
    "    Question: {query}\n",
    "    Answer:\"\"\"\n",
    "\n",
    "    return llm.invoke(prompt)\n",
    "\n",
    "query = \"What is attention?\"\n",
    "retrieved_docs = retriever.get_relevant_documents(query)\n",
    "\n",
    "answer = generate_answer(query, relevant_docs, llm)\n",
    "print(\"SmartDOC says:\\n\", answer)\n"
   ]
  }
 ],
 "metadata": {
  "kernelspec": {
   "display_name": "Python 3",
   "language": "python",
   "name": "python3"
  },
  "language_info": {
   "codemirror_mode": {
    "name": "ipython",
    "version": 3
   },
   "file_extension": ".py",
   "mimetype": "text/x-python",
   "name": "python",
   "nbconvert_exporter": "python",
   "pygments_lexer": "ipython3",
   "version": "3.13.0"
  }
 },
 "nbformat": 4,
 "nbformat_minor": 5
}
